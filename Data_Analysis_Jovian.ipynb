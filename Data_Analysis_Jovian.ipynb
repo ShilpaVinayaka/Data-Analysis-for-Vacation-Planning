{
  "nbformat": 4,
  "nbformat_minor": 0,
  "metadata": {
    "colab": {
      "name": "Data_Analysis_Vacation-Planning.ipynb",
      "provenance": [],
      "collapsed_sections": [],
      "authorship_tag": "ABX9TyMnavQ7N0Wqqq1n/FzGVY8M",
      "include_colab_link": true
    },
    "kernelspec": {
      "name": "python3",
      "display_name": "Python 3"
    },
    "language_info": {
      "name": "python"
    }
  },
  "cells": [
    {
      "cell_type": "markdown",
      "metadata": {
        "id": "view-in-github",
        "colab_type": "text"
      },
      "source": [
        "<a href=\"https://colab.research.google.com/github/ShilpaVinayaka/Data-Analysis-for-Vacation-Planning/blob/main/Data_Analysis_Jovian.ipynb\" target=\"_parent\"><img src=\"https://colab.research.google.com/assets/colab-badge.svg\" alt=\"Open In Colab\"/></a>"
      ]
    },
    {
      "cell_type": "markdown",
      "source": [
        "# Data Analysis for Vacation Planning"
      ],
      "metadata": {
        "id": "wzQFCbW3PCNX"
      }
    },
    {
      "cell_type": "markdown",
      "source": [
        "You're planning a vacation, and you need to decide which city you want to visit. You have shortlisted four cities and identified the return flight cost, daily hotel cost, and weekly car rental cost. While renting a car, you need to pay for entire weeks, even if you return the car sooner."
      ],
      "metadata": {
        "id": "e3NNds4fPIPM"
      }
    },
    {
      "cell_type": "markdown",
      "source": [
        "Answer the following questions using the data above:\n",
        "\n",
        "If you're planning a 1-week long trip, \n",
        "\n",
        "1. which city should you visit to spend the least amount of money?\n",
        "\n",
        "2. How does the answer to the previous question change if you change the trip's duration to four days, ten days or two weeks?\n",
        "\n",
        "3. If your total budget for the trip is $1000, which city should you visit to maximize the duration of your trip? Which city should you visit if you want to minimize the duration?\n",
        "\n",
        "4. How does the answer to the previous question change if your budget is $600, $2000, or $1500?"
      ],
      "metadata": {
        "id": "BJHycmZwUul0"
      }
    },
    {
      "cell_type": "markdown",
      "source": [
        "Hint: To answer these questions, it will help to define a function cost_of_trip with relevant inputs like flight cost, hotel rate, car rental rate, and duration of the trip. You may find the math.ceil function useful for calculating the total cost of car rental."
      ],
      "metadata": {
        "id": "Ro9E6u3yVNhI"
      }
    },
    {
      "cell_type": "code",
      "source": [
        "import math"
      ],
      "metadata": {
        "id": "BqDzWRWuVcSK"
      },
      "execution_count": null,
      "outputs": []
    },
    {
      "cell_type": "code",
      "source": [
        "Paris=[200,20,200,'Paris']\n",
        "London = [250,30,120,'London']\n",
        "Dubai = [370,15,80,'Dubai']\n",
        "Mumbai = [450,10,70,'Mumbai']\n",
        "Cities = [Paris,London,Dubai,Mumbai]"
      ],
      "metadata": {
        "id": "woPrMKPxVfug"
      },
      "execution_count": null,
      "outputs": []
    },
    {
      "cell_type": "code",
      "source": [
        "def cost_of_trip(flight, hotel_cost, car_rent, num_of_days=0):\n",
        "  return flight + (hotel_cost*num_of_days) + (car_rent*math.ceil(num_of_days/7))"
      ],
      "metadata": {
        "id": "4my2xofzVjvk"
      },
      "execution_count": null,
      "outputs": []
    },
    {
      "cell_type": "code",
      "source": [
        "def days_of_visit(days):\n",
        "  costs = []\n",
        "  for city in Cities:\n",
        "    cost = cost_of_trip(city[0],city[1], city[2], days)\n",
        "    costs.append((cost, city[3]))\n",
        "\n",
        "  min_cost = min(costs)\n",
        "  return min_cost"
      ],
      "metadata": {
        "id": "EEYXkU5gWEjs"
      },
      "execution_count": null,
      "outputs": []
    },
    {
      "cell_type": "markdown",
      "source": [
        " > 1. If you're planning a 1-week long trip, which city should you visit to spend the least amount of money?"
      ],
      "metadata": {
        "id": "jky46ZdJWhel"
      }
    },
    {
      "cell_type": "code",
      "source": [
        "days_of_visit(7)"
      ],
      "metadata": {
        "colab": {
          "base_uri": "https://localhost:8080/"
        },
        "id": "ow6W1eEYWiUM",
        "outputId": "098efc8e-2763-4777-af5a-84441cc7a17c"
      },
      "execution_count": null,
      "outputs": [
        {
          "output_type": "execute_result",
          "data": {
            "text/plain": [
              "(540, 'Paris')"
            ]
          },
          "metadata": {},
          "execution_count": 5
        }
      ]
    },
    {
      "cell_type": "markdown",
      "source": [
        "> 2. How does the answer to the previous question change if you change the trip's duration to four days, ten days or two weeks?"
      ],
      "metadata": {
        "id": "2XkwlQSRXYMq"
      }
    },
    {
      "cell_type": "code",
      "source": [
        "days_of_visit(4)"
      ],
      "metadata": {
        "colab": {
          "base_uri": "https://localhost:8080/"
        },
        "id": "WFNCMGHdXZ4L",
        "outputId": "ebce39c4-98ab-41f3-b5e1-75c3fcc5ac12"
      },
      "execution_count": null,
      "outputs": [
        {
          "output_type": "execute_result",
          "data": {
            "text/plain": [
              "(480, 'Paris')"
            ]
          },
          "metadata": {},
          "execution_count": 6
        }
      ]
    },
    {
      "cell_type": "code",
      "source": [
        "days_of_visit(10)"
      ],
      "metadata": {
        "colab": {
          "base_uri": "https://localhost:8080/"
        },
        "id": "xSI4nqAWXeMZ",
        "outputId": "58c3838b-d62e-41bd-8b2e-961b0dde679a"
      },
      "execution_count": null,
      "outputs": [
        {
          "output_type": "execute_result",
          "data": {
            "text/plain": [
              "(680, 'Dubai')"
            ]
          },
          "metadata": {},
          "execution_count": 7
        }
      ]
    },
    {
      "cell_type": "code",
      "source": [
        "days_of_visit(14)"
      ],
      "metadata": {
        "colab": {
          "base_uri": "https://localhost:8080/"
        },
        "id": "zEiwdVNHXfNa",
        "outputId": "73d92ac4-1562-4c63-82f3-14c5e244c388"
      },
      "execution_count": null,
      "outputs": [
        {
          "output_type": "execute_result",
          "data": {
            "text/plain": [
              "(730, 'Mumbai')"
            ]
          },
          "metadata": {},
          "execution_count": 10
        }
      ]
    },
    {
      "cell_type": "markdown",
      "source": [
        "> 3. If your total budget for the trip is `$1000`, which city should you visit to maximize the duration of your trip? Which city should you visit if you want to minimize the duration?"
      ],
      "metadata": {
        "id": "LVdvA3tPXmt5"
      }
    },
    {
      "cell_type": "code",
      "source": [
        "def given_budget(budget, less_days=False):\n",
        "  days = 1\n",
        "  cost = 0\n",
        "  while cost<budget:\n",
        "    cost_before = cost\n",
        "\n",
        "    try:\n",
        "      costs_before = costs.copy()\n",
        "    except:\n",
        "      costs_before = {}\n",
        "    costs = {}\n",
        "\n",
        "    for city in Cities:\n",
        "      cost = cost_of_trip(city[0],city[1],city[2],days)\n",
        "      costs[cost] = city[3]\n",
        "    \n",
        "    if less_days:\n",
        "      cost = max(list(costs.keys()))\n",
        "      if cost>budget:\n",
        "        return costs_before[cost_before], days-1\n",
        "      elif cost==budget:\n",
        "        return costs_before[cost_before], days\n",
        "    \n",
        "    else:\n",
        "      cost = min(list(costs.keys()))\n",
        "      if cost>budget:\n",
        "        return costs_before[cost_before], days-1\n",
        "      elif cost==budget:\n",
        "        return costs_before[cost_before], days\n",
        "    \n",
        "    days += 1\n"
      ],
      "metadata": {
        "id": "m4WI7xq4Xnri"
      },
      "execution_count": null,
      "outputs": []
    },
    {
      "cell_type": "code",
      "source": [
        "city_maxdays = given_budget(1000)\n",
        "print(city_maxdays)"
      ],
      "metadata": {
        "colab": {
          "base_uri": "https://localhost:8080/"
        },
        "id": "bDTDhuv5b2pq",
        "outputId": "a10913a1-7f99-48bd-b5f9-281400fc891c"
      },
      "execution_count": null,
      "outputs": [
        {
          "output_type": "stream",
          "name": "stdout",
          "text": [
            "('Mumbai', 27)\n"
          ]
        }
      ]
    },
    {
      "cell_type": "code",
      "source": [
        "city_mindays = given_budget(1000, less_days=True)\n",
        "print(city_mindays)"
      ],
      "metadata": {
        "colab": {
          "base_uri": "https://localhost:8080/"
        },
        "id": "-dBdBfa-cZ65",
        "outputId": "35c22ca9-0f54-4d2d-fa2b-b508d05f9238"
      },
      "execution_count": null,
      "outputs": [
        {
          "output_type": "stream",
          "name": "stdout",
          "text": [
            "('London', 14)\n"
          ]
        }
      ]
    },
    {
      "cell_type": "markdown",
      "source": [
        "> 4. How does the answer to the previous question change if your budget is `$600`, `$2000`, or `$1500`?"
      ],
      "metadata": {
        "id": "CD8WPUVCdCY5"
      }
    },
    {
      "cell_type": "code",
      "source": [
        "city_maxdays = given_budget(600)\n",
        "print(city_maxdays)"
      ],
      "metadata": {
        "colab": {
          "base_uri": "https://localhost:8080/"
        },
        "id": "ocrQiQdLdDQi",
        "outputId": "4dddc433-132f-4f2b-d620-2ba2ec8c940b"
      },
      "execution_count": null,
      "outputs": [
        {
          "output_type": "stream",
          "name": "stdout",
          "text": [
            "('Paris', 7)\n"
          ]
        }
      ]
    },
    {
      "cell_type": "code",
      "source": [
        "city_mindays = given_budget(600, less_days=True)\n",
        "print(city_mindays)"
      ],
      "metadata": {
        "colab": {
          "base_uri": "https://localhost:8080/"
        },
        "id": "pqgX_2AjdGN5",
        "outputId": "6ed9972f-95fc-4117-db8f-168102cb30c4"
      },
      "execution_count": null,
      "outputs": [
        {
          "output_type": "stream",
          "name": "stdout",
          "text": [
            "('Mumbai', 7)\n"
          ]
        }
      ]
    },
    {
      "cell_type": "code",
      "source": [
        "city_maxdays = given_budget(2000)\n",
        "print(city_maxdays)"
      ],
      "metadata": {
        "colab": {
          "base_uri": "https://localhost:8080/"
        },
        "id": "ttvEeMwMdJSR",
        "outputId": "b104b3d5-202d-4676-93aa-55ade5ef3b11"
      },
      "execution_count": null,
      "outputs": [
        {
          "output_type": "stream",
          "name": "stdout",
          "text": [
            "('Mumbai', 77)\n"
          ]
        }
      ]
    },
    {
      "cell_type": "code",
      "source": [
        "city_mindays = given_budget(2000, less_days=True)\n",
        "print(city_mindays)"
      ],
      "metadata": {
        "colab": {
          "base_uri": "https://localhost:8080/"
        },
        "id": "Q8UFHPC9dKBB",
        "outputId": "fc7f7ea8-21bb-4d77-a0e6-edfa57bb7e41"
      },
      "execution_count": null,
      "outputs": [
        {
          "output_type": "stream",
          "name": "stdout",
          "text": [
            "('London', 35)\n"
          ]
        }
      ]
    },
    {
      "cell_type": "code",
      "source": [
        "city_maxdays = given_budget(1500)\n",
        "print(city_maxdays)"
      ],
      "metadata": {
        "colab": {
          "base_uri": "https://localhost:8080/"
        },
        "id": "g1FlZLa2dKfR",
        "outputId": "8b388b0c-aba2-4edc-8fa3-305a2265427d"
      },
      "execution_count": null,
      "outputs": [
        {
          "output_type": "stream",
          "name": "stdout",
          "text": [
            "('Mumbai', 49)\n"
          ]
        }
      ]
    },
    {
      "cell_type": "code",
      "source": [
        "city_mindays = given_budget(1500, less_days=True)\n",
        "print(city_mindays)"
      ],
      "metadata": {
        "colab": {
          "base_uri": "https://localhost:8080/"
        },
        "id": "ZJq2_1XmdKxy",
        "outputId": "89c55b97-4c8f-4e27-f923-e2191d214e20"
      },
      "execution_count": null,
      "outputs": [
        {
          "output_type": "stream",
          "name": "stdout",
          "text": [
            "('Paris', 25)\n"
          ]
        }
      ]
    }
  ]
}
